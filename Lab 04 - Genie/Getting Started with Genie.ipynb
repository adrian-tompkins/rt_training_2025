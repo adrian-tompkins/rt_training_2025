{
 "cells": [
  {
   "cell_type": "markdown",
   "metadata": {
    "application/vnd.databricks.v1+cell": {
     "cellMetadata": {},
     "inputWidgets": {},
     "nuid": "e2d805bd-6ebb-4f55-bc18-6d7f4bd473aa",
     "showTitle": false,
     "tableResultSettingsMap": {},
     "title": ""
    }
   },
   "source": [
    "## Create Tables / Views\n",
    "This is your starting point for creating tables or views for your Genie Space. The below SQL query creates a View that you can give you some inspiration to start from. Change, add and remove tables as you see fit.\n",
    "\n",
    "Remember, Genie likes data sets that are clear to understand, ei they have good columns names and have comments. Just think, of whatever would make it easier for a person to understand, will make it easier for Genie to understand."
   ]
  },
  {
   "cell_type": "code",
   "execution_count": 0,
   "metadata": {
    "application/vnd.databricks.v1+cell": {
     "cellMetadata": {
      "byteLimit": 2048000,
      "rowLimit": 10000
     },
     "inputWidgets": {},
     "nuid": "c1e1a4ca-f784-4196-a42d-50628859af9a",
     "showTitle": false,
     "tableResultSettingsMap": {},
     "title": ""
    }
   },
   "outputs": [],
   "source": [
    "CREATE OR REPLACE VIEW lakehouse_labs.<my_schema>.genie_hme_tum AS\n",
    "SELECT \n",
    "tue.calendar_date, \n",
    "tue.hme_asset_bk, \n",
    "tue.site_bk,\n",
    "tue.s_duration as seconds_duration,\n",
    "tuc.tum1_code as hme_available_status\n",
    "FROM rtio_dataproducts.mining.hme_time_usage_event tue \n",
    "JOIN rtio_dataproducts.mining.hme_time_usage_classification tuc\n",
    "ON tuc.hme_time_usage_classification_bk = tue.time_usage_classification_bk"
   ]
  },
  {
   "cell_type": "code",
   "execution_count": 0,
   "metadata": {
    "application/vnd.databricks.v1+cell": {
     "cellMetadata": {
      "byteLimit": 2048000,
      "rowLimit": 10000
     },
     "inputWidgets": {},
     "nuid": "48d93f11-e207-418e-a279-c181011ff7eb",
     "showTitle": false,
     "tableResultSettingsMap": {},
     "title": ""
    }
   },
   "outputs": [],
   "source": [
    "COMMENT ON COLUMN lakehouse_labs.<my_schema>.genie_hme_tum.hme_available_status IS 'Availibility status. \"AT\" when available. \"DT\" when down. \"~Not Recorded\" when not recorded. \"UKNWOWN\" otherwise';\n",
    "COMMENT ON COLUMN lakehouse_labs.<my_schema>.genie_hme_tum.seconds_duration IS 'Duration in seconds of the event';"
   ]
  },
  {
   "cell_type": "markdown",
   "metadata": {
    "application/vnd.databricks.v1+cell": {
     "cellMetadata": {},
     "inputWidgets": {},
     "nuid": "63a9db39-1dce-410d-9093-4086736d0aee",
     "showTitle": false,
     "tableResultSettingsMap": {},
     "title": ""
    }
   },
   "source": [
    "## Create Your Genie Room\n",
    "\n",
    "Find your table in the catalog and click **Create -> Genie Space**\n",
    "\n",
    "Once you have created your space, try it out by having a conversation with your data!\n",
    "\n",
    "Here's some example questions for a conversation with Genie:\n",
    " - How much equipment downtime did I have in January?\n",
    " - Show this by site, and by hours of downtime\n",
    " - Standardize this by the number of assets for each site\n",
    "\n",
    "\n",
    "Did Genie have enough information to answer all of these questions? Based on the outcome of the conversation, you may want to alter the data sets, alter the instructions for the space, or provide guiding queries for the space. The main goal is to put yourself in the shoes of the end users and ask\n",
    " - What is the priamry purpose of this space going to be?\n",
    " - What questions would my end users be likey to ask?\n",
    " - How can I adapt my Genie Space to give the best answers to these questions?\n",
    "\n"
   ]
  }
 ],
 "metadata": {
  "application/vnd.databricks.v1+notebook": {
   "computePreferences": null,
   "dashboards": [],
   "environmentMetadata": {
    "base_environment": "",
    "environment_version": "2"
   },
   "language": "sql",
   "notebookMetadata": {
    "pythonIndentUnit": 4
   },
   "notebookName": "Getting Started with Genie",
   "widgets": {}
  },
  "language_info": {
   "name": "sql"
  }
 },
 "nbformat": 4,
 "nbformat_minor": 0
}
